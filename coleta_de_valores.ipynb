{
 "cells": [
  {
   "cell_type": "code",
   "execution_count": 28,
   "metadata": {},
   "outputs": [],
   "source": [
    "import pandas as pd\n",
    "from selenium import webdriver as driver\n",
    "from selenium.webdriver.common.keys import Keys\n",
    "from selenium.webdriver.common.by import By"
   ]
  },
  {
   "cell_type": "code",
   "execution_count": 29,
   "metadata": {},
   "outputs": [],
   "source": [
    "driver = driver.Chrome()\n",
    "driver.get('https://www.mercadolivre.com.br/')\n",
    "\n",
    "#aceitando cookies\n",
    "driver.find_element(By.XPATH,'/html/body/div[2]/div[1]/div/div[3]/button[1]').click()"
   ]
  },
  {
   "cell_type": "code",
   "execution_count": 30,
   "metadata": {},
   "outputs": [],
   "source": [
    "tag = driver.find_element(By.TAG_NAME,'input')\n",
    "tag.clear()\n",
    "tag.send_keys('carteira')\n",
    "tag.send_keys(Keys.ENTER)"
   ]
  },
  {
   "cell_type": "code",
   "execution_count": 4,
   "metadata": {},
   "outputs": [
    {
     "name": "stdout",
     "output_type": "stream",
     "text": [
      "foi encontrado 54: produtos\n",
      "Aguarde, estamos coletando os dados!\n"
     ]
    }
   ],
   "source": [
    "produtos = driver.find_elements(By.CLASS_NAME,'ui-search-result__content')\n",
    "\n",
    "print(f'foi encontrado {len(produtos)}: produtos\\nAguarde, estamos coletando os dados!')\n",
    "\n",
    "lista_nome = []\n",
    "lista_value = []\n",
    "lista_link = []\n",
    "\n",
    "for inf in produtos:\n",
    "    nome_produto = inf.find_element(By.TAG_NAME,'h2').text\n",
    "    valor = inf.find_element(By.CLASS_NAME,'price-tag-fraction').text\n",
    "    link = inf.find_element(By.TAG_NAME,'a').get_attribute('href')\n",
    "\n",
    "    lista_nome.append(nome_produto)\n",
    "    lista_value.append(valor)\n",
    "    lista_link.append(link)  "
   ]
  },
  {
   "cell_type": "code",
   "execution_count": null,
   "metadata": {},
   "outputs": [],
   "source": [
    "dados = {'nome_produto': lista_nome,'valor':lista_value,'link':lista_link}\n",
    "\n",
    "df = pd.DataFrame(dados)\n",
    "\n",
    "df.to_csv('pesquisa_de_valores_mercadoLivre.csv',encoding='utf-8',index=None)\n",
    "\n",
    "df"
   ]
  }
 ],
 "metadata": {
  "kernelspec": {
   "display_name": "Python 3",
   "language": "python",
   "name": "python3"
  },
  "language_info": {
   "codemirror_mode": {
    "name": "ipython",
    "version": 3
   },
   "file_extension": ".py",
   "mimetype": "text/x-python",
   "name": "python",
   "nbconvert_exporter": "python",
   "pygments_lexer": "ipython3",
   "version": "3.11.3"
  },
  "orig_nbformat": 4
 },
 "nbformat": 4,
 "nbformat_minor": 2
}
